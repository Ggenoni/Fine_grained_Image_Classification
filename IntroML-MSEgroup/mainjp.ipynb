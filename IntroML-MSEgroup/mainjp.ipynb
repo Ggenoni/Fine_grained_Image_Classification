{
 "cells": [
  {
   "cell_type": "code",
   "execution_count": null,
   "metadata": {},
   "outputs": [],
   "source": [
    "#run in Google Colab\n",
    "!pip install wandb -qU\n",
    "#my wandb profile: gaudenzia.genoni@gmail.com (google account); name: Gaudenzia-genoni1; ml-unitn-org\n",
    "\n",
    "#Token: 9deefe3e6881e905dc42290550ed77478147380c"
   ]
  },
  {
   "cell_type": "code",
   "execution_count": null,
   "metadata": {},
   "outputs": [],
   "source": [
    "!pip install ftfy regex tqdm\n",
    "!pip install git+https://github.com/openai/CLIP.git"
   ]
  },
  {
   "cell_type": "code",
   "execution_count": null,
   "metadata": {},
   "outputs": [],
   "source": [
    "!python main.py --config config.yaml --run_name my_run"
   ]
  }
 ],
 "metadata": {
  "language_info": {
   "name": "python"
  }
 },
 "nbformat": 4,
 "nbformat_minor": 2
}
